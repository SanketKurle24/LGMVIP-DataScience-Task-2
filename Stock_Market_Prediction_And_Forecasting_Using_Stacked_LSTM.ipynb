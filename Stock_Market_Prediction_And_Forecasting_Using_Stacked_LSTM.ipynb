{
  "nbformat": 4,
  "nbformat_minor": 0,
  "metadata": {
    "colab": {
      "name": "Stock Market Prediction And Forecasting Using Stacked LSTM.ipynb",
      "provenance": [],
      "collapsed_sections": []
    },
    "kernelspec": {
      "name": "python3",
      "display_name": "Python 3"
    },
    "language_info": {
      "name": "python"
    }
  },
  "cells": [
    {
      "cell_type": "code",
      "metadata": {
        "id": "ArG2X-AifTLK"
      },
      "source": [
        "'''\n",
        "SANKET KURLE\n",
        "Task 2 LGMVIP DataScience\n",
        "Stock Market Prediction And Forecasting Using Stacked LSTM\n",
        "\n",
        "'''"
      ],
      "execution_count": null,
      "outputs": []
    },
    {
      "cell_type": "code",
      "metadata": {
        "colab": {
          "resources": {
            "http://localhost:8080/nbextensions/google.colab/files.js": {
              "data": "Ly8gQ29weXJpZ2h0IDIwMTcgR29vZ2xlIExMQwovLwovLyBMaWNlbnNlZCB1bmRlciB0aGUgQXBhY2hlIExpY2Vuc2UsIFZlcnNpb24gMi4wICh0aGUgIkxpY2Vuc2UiKTsKLy8geW91IG1heSBub3QgdXNlIHRoaXMgZmlsZSBleGNlcHQgaW4gY29tcGxpYW5jZSB3aXRoIHRoZSBMaWNlbnNlLgovLyBZb3UgbWF5IG9idGFpbiBhIGNvcHkgb2YgdGhlIExpY2Vuc2UgYXQKLy8KLy8gICAgICBodHRwOi8vd3d3LmFwYWNoZS5vcmcvbGljZW5zZXMvTElDRU5TRS0yLjAKLy8KLy8gVW5sZXNzIHJlcXVpcmVkIGJ5IGFwcGxpY2FibGUgbGF3IG9yIGFncmVlZCB0byBpbiB3cml0aW5nLCBzb2Z0d2FyZQovLyBkaXN0cmlidXRlZCB1bmRlciB0aGUgTGljZW5zZSBpcyBkaXN0cmlidXRlZCBvbiBhbiAiQVMgSVMiIEJBU0lTLAovLyBXSVRIT1VUIFdBUlJBTlRJRVMgT1IgQ09ORElUSU9OUyBPRiBBTlkgS0lORCwgZWl0aGVyIGV4cHJlc3Mgb3IgaW1wbGllZC4KLy8gU2VlIHRoZSBMaWNlbnNlIGZvciB0aGUgc3BlY2lmaWMgbGFuZ3VhZ2UgZ292ZXJuaW5nIHBlcm1pc3Npb25zIGFuZAovLyBsaW1pdGF0aW9ucyB1bmRlciB0aGUgTGljZW5zZS4KCi8qKgogKiBAZmlsZW92ZXJ2aWV3IEhlbHBlcnMgZm9yIGdvb2dsZS5jb2xhYiBQeXRob24gbW9kdWxlLgogKi8KKGZ1bmN0aW9uKHNjb3BlKSB7CmZ1bmN0aW9uIHNwYW4odGV4dCwgc3R5bGVBdHRyaWJ1dGVzID0ge30pIHsKICBjb25zdCBlbGVtZW50ID0gZG9jdW1lbnQuY3JlYXRlRWxlbWVudCgnc3BhbicpOwogIGVsZW1lbnQudGV4dENvbnRlbnQgPSB0ZXh0OwogIGZvciAoY29uc3Qga2V5IG9mIE9iamVjdC5rZXlzKHN0eWxlQXR0cmlidXRlcykpIHsKICAgIGVsZW1lbnQuc3R5bGVba2V5XSA9IHN0eWxlQXR0cmlidXRlc1trZXldOwogIH0KICByZXR1cm4gZWxlbWVudDsKfQoKLy8gTWF4IG51bWJlciBvZiBieXRlcyB3aGljaCB3aWxsIGJlIHVwbG9hZGVkIGF0IGEgdGltZS4KY29uc3QgTUFYX1BBWUxPQURfU0laRSA9IDEwMCAqIDEwMjQ7CgpmdW5jdGlvbiBfdXBsb2FkRmlsZXMoaW5wdXRJZCwgb3V0cHV0SWQpIHsKICBjb25zdCBzdGVwcyA9IHVwbG9hZEZpbGVzU3RlcChpbnB1dElkLCBvdXRwdXRJZCk7CiAgY29uc3Qgb3V0cHV0RWxlbWVudCA9IGRvY3VtZW50LmdldEVsZW1lbnRCeUlkKG91dHB1dElkKTsKICAvLyBDYWNoZSBzdGVwcyBvbiB0aGUgb3V0cHV0RWxlbWVudCB0byBtYWtlIGl0IGF2YWlsYWJsZSBmb3IgdGhlIG5leHQgY2FsbAogIC8vIHRvIHVwbG9hZEZpbGVzQ29udGludWUgZnJvbSBQeXRob24uCiAgb3V0cHV0RWxlbWVudC5zdGVwcyA9IHN0ZXBzOwoKICByZXR1cm4gX3VwbG9hZEZpbGVzQ29udGludWUob3V0cHV0SWQpOwp9CgovLyBUaGlzIGlzIHJvdWdobHkgYW4gYXN5bmMgZ2VuZXJhdG9yIChub3Qgc3VwcG9ydGVkIGluIHRoZSBicm93c2VyIHlldCksCi8vIHdoZXJlIHRoZXJlIGFyZSBtdWx0aXBsZSBhc3luY2hyb25vdXMgc3RlcHMgYW5kIHRoZSBQeXRob24gc2lkZSBpcyBnb2luZwovLyB0byBwb2xsIGZvciBjb21wbGV0aW9uIG9mIGVhY2ggc3RlcC4KLy8gVGhpcyB1c2VzIGEgUHJvbWlzZSB0byBibG9jayB0aGUgcHl0aG9uIHNpZGUgb24gY29tcGxldGlvbiBvZiBlYWNoIHN0ZXAsCi8vIHRoZW4gcGFzc2VzIHRoZSByZXN1bHQgb2YgdGhlIHByZXZpb3VzIHN0ZXAgYXMgdGhlIGlucHV0IHRvIHRoZSBuZXh0IHN0ZXAuCmZ1bmN0aW9uIF91cGxvYWRGaWxlc0NvbnRpbnVlKG91dHB1dElkKSB7CiAgY29uc3Qgb3V0cHV0RWxlbWVudCA9IGRvY3VtZW50LmdldEVsZW1lbnRCeUlkKG91dHB1dElkKTsKICBjb25zdCBzdGVwcyA9IG91dHB1dEVsZW1lbnQuc3RlcHM7CgogIGNvbnN0IG5leHQgPSBzdGVwcy5uZXh0KG91dHB1dEVsZW1lbnQubGFzdFByb21pc2VWYWx1ZSk7CiAgcmV0dXJuIFByb21pc2UucmVzb2x2ZShuZXh0LnZhbHVlLnByb21pc2UpLnRoZW4oKHZhbHVlKSA9PiB7CiAgICAvLyBDYWNoZSB0aGUgbGFzdCBwcm9taXNlIHZhbHVlIHRvIG1ha2UgaXQgYXZhaWxhYmxlIHRvIHRoZSBuZXh0CiAgICAvLyBzdGVwIG9mIHRoZSBnZW5lcmF0b3IuCiAgICBvdXRwdXRFbGVtZW50Lmxhc3RQcm9taXNlVmFsdWUgPSB2YWx1ZTsKICAgIHJldHVybiBuZXh0LnZhbHVlLnJlc3BvbnNlOwogIH0pOwp9CgovKioKICogR2VuZXJhdG9yIGZ1bmN0aW9uIHdoaWNoIGlzIGNhbGxlZCBiZXR3ZWVuIGVhY2ggYXN5bmMgc3RlcCBvZiB0aGUgdXBsb2FkCiAqIHByb2Nlc3MuCiAqIEBwYXJhbSB7c3RyaW5nfSBpbnB1dElkIEVsZW1lbnQgSUQgb2YgdGhlIGlucHV0IGZpbGUgcGlja2VyIGVsZW1lbnQuCiAqIEBwYXJhbSB7c3RyaW5nfSBvdXRwdXRJZCBFbGVtZW50IElEIG9mIHRoZSBvdXRwdXQgZGlzcGxheS4KICogQHJldHVybiB7IUl0ZXJhYmxlPCFPYmplY3Q+fSBJdGVyYWJsZSBvZiBuZXh0IHN0ZXBzLgogKi8KZnVuY3Rpb24qIHVwbG9hZEZpbGVzU3RlcChpbnB1dElkLCBvdXRwdXRJZCkgewogIGNvbnN0IGlucHV0RWxlbWVudCA9IGRvY3VtZW50LmdldEVsZW1lbnRCeUlkKGlucHV0SWQpOwogIGlucHV0RWxlbWVudC5kaXNhYmxlZCA9IGZhbHNlOwoKICBjb25zdCBvdXRwdXRFbGVtZW50ID0gZG9jdW1lbnQuZ2V0RWxlbWVudEJ5SWQob3V0cHV0SWQpOwogIG91dHB1dEVsZW1lbnQuaW5uZXJIVE1MID0gJyc7CgogIGNvbnN0IHBpY2tlZFByb21pc2UgPSBuZXcgUHJvbWlzZSgocmVzb2x2ZSkgPT4gewogICAgaW5wdXRFbGVtZW50LmFkZEV2ZW50TGlzdGVuZXIoJ2NoYW5nZScsIChlKSA9PiB7CiAgICAgIHJlc29sdmUoZS50YXJnZXQuZmlsZXMpOwogICAgfSk7CiAgfSk7CgogIGNvbnN0IGNhbmNlbCA9IGRvY3VtZW50LmNyZWF0ZUVsZW1lbnQoJ2J1dHRvbicpOwogIGlucHV0RWxlbWVudC5wYXJlbnRFbGVtZW50LmFwcGVuZENoaWxkKGNhbmNlbCk7CiAgY2FuY2VsLnRleHRDb250ZW50ID0gJ0NhbmNlbCB1cGxvYWQnOwogIGNvbnN0IGNhbmNlbFByb21pc2UgPSBuZXcgUHJvbWlzZSgocmVzb2x2ZSkgPT4gewogICAgY2FuY2VsLm9uY2xpY2sgPSAoKSA9PiB7CiAgICAgIHJlc29sdmUobnVsbCk7CiAgICB9OwogIH0pOwoKICAvLyBXYWl0IGZvciB0aGUgdXNlciB0byBwaWNrIHRoZSBmaWxlcy4KICBjb25zdCBmaWxlcyA9IHlpZWxkIHsKICAgIHByb21pc2U6IFByb21pc2UucmFjZShbcGlja2VkUHJvbWlzZSwgY2FuY2VsUHJvbWlzZV0pLAogICAgcmVzcG9uc2U6IHsKICAgICAgYWN0aW9uOiAnc3RhcnRpbmcnLAogICAgfQogIH07CgogIGNhbmNlbC5yZW1vdmUoKTsKCiAgLy8gRGlzYWJsZSB0aGUgaW5wdXQgZWxlbWVudCBzaW5jZSBmdXJ0aGVyIHBpY2tzIGFyZSBub3QgYWxsb3dlZC4KICBpbnB1dEVsZW1lbnQuZGlzYWJsZWQgPSB0cnVlOwoKICBpZiAoIWZpbGVzKSB7CiAgICByZXR1cm4gewogICAgICByZXNwb25zZTogewogICAgICAgIGFjdGlvbjogJ2NvbXBsZXRlJywKICAgICAgfQogICAgfTsKICB9CgogIGZvciAoY29uc3QgZmlsZSBvZiBmaWxlcykgewogICAgY29uc3QgbGkgPSBkb2N1bWVudC5jcmVhdGVFbGVtZW50KCdsaScpOwogICAgbGkuYXBwZW5kKHNwYW4oZmlsZS5uYW1lLCB7Zm9udFdlaWdodDogJ2JvbGQnfSkpOwogICAgbGkuYXBwZW5kKHNwYW4oCiAgICAgICAgYCgke2ZpbGUudHlwZSB8fCAnbi9hJ30pIC0gJHtmaWxlLnNpemV9IGJ5dGVzLCBgICsKICAgICAgICBgbGFzdCBtb2RpZmllZDogJHsKICAgICAgICAgICAgZmlsZS5sYXN0TW9kaWZpZWREYXRlID8gZmlsZS5sYXN0TW9kaWZpZWREYXRlLnRvTG9jYWxlRGF0ZVN0cmluZygpIDoKICAgICAgICAgICAgICAgICAgICAgICAgICAgICAgICAgICAgJ24vYSd9IC0gYCkpOwogICAgY29uc3QgcGVyY2VudCA9IHNwYW4oJzAlIGRvbmUnKTsKICAgIGxpLmFwcGVuZENoaWxkKHBlcmNlbnQpOwoKICAgIG91dHB1dEVsZW1lbnQuYXBwZW5kQ2hpbGQobGkpOwoKICAgIGNvbnN0IGZpbGVEYXRhUHJvbWlzZSA9IG5ldyBQcm9taXNlKChyZXNvbHZlKSA9PiB7CiAgICAgIGNvbnN0IHJlYWRlciA9IG5ldyBGaWxlUmVhZGVyKCk7CiAgICAgIHJlYWRlci5vbmxvYWQgPSAoZSkgPT4gewogICAgICAgIHJlc29sdmUoZS50YXJnZXQucmVzdWx0KTsKICAgICAgfTsKICAgICAgcmVhZGVyLnJlYWRBc0FycmF5QnVmZmVyKGZpbGUpOwogICAgfSk7CiAgICAvLyBXYWl0IGZvciB0aGUgZGF0YSB0byBiZSByZWFkeS4KICAgIGxldCBmaWxlRGF0YSA9IHlpZWxkIHsKICAgICAgcHJvbWlzZTogZmlsZURhdGFQcm9taXNlLAogICAgICByZXNwb25zZTogewogICAgICAgIGFjdGlvbjogJ2NvbnRpbnVlJywKICAgICAgfQogICAgfTsKCiAgICAvLyBVc2UgYSBjaHVua2VkIHNlbmRpbmcgdG8gYXZvaWQgbWVzc2FnZSBzaXplIGxpbWl0cy4gU2VlIGIvNjIxMTU2NjAuCiAgICBsZXQgcG9zaXRpb24gPSAwOwogICAgZG8gewogICAgICBjb25zdCBsZW5ndGggPSBNYXRoLm1pbihmaWxlRGF0YS5ieXRlTGVuZ3RoIC0gcG9zaXRpb24sIE1BWF9QQVlMT0FEX1NJWkUpOwogICAgICBjb25zdCBjaHVuayA9IG5ldyBVaW50OEFycmF5KGZpbGVEYXRhLCBwb3NpdGlvbiwgbGVuZ3RoKTsKICAgICAgcG9zaXRpb24gKz0gbGVuZ3RoOwoKICAgICAgY29uc3QgYmFzZTY0ID0gYnRvYShTdHJpbmcuZnJvbUNoYXJDb2RlLmFwcGx5KG51bGwsIGNodW5rKSk7CiAgICAgIHlpZWxkIHsKICAgICAgICByZXNwb25zZTogewogICAgICAgICAgYWN0aW9uOiAnYXBwZW5kJywKICAgICAgICAgIGZpbGU6IGZpbGUubmFtZSwKICAgICAgICAgIGRhdGE6IGJhc2U2NCwKICAgICAgICB9LAogICAgICB9OwoKICAgICAgbGV0IHBlcmNlbnREb25lID0gZmlsZURhdGEuYnl0ZUxlbmd0aCA9PT0gMCA/CiAgICAgICAgICAxMDAgOgogICAgICAgICAgTWF0aC5yb3VuZCgocG9zaXRpb24gLyBmaWxlRGF0YS5ieXRlTGVuZ3RoKSAqIDEwMCk7CiAgICAgIHBlcmNlbnQudGV4dENvbnRlbnQgPSBgJHtwZXJjZW50RG9uZX0lIGRvbmVgOwoKICAgIH0gd2hpbGUgKHBvc2l0aW9uIDwgZmlsZURhdGEuYnl0ZUxlbmd0aCk7CiAgfQoKICAvLyBBbGwgZG9uZS4KICB5aWVsZCB7CiAgICByZXNwb25zZTogewogICAgICBhY3Rpb246ICdjb21wbGV0ZScsCiAgICB9CiAgfTsKfQoKc2NvcGUuZ29vZ2xlID0gc2NvcGUuZ29vZ2xlIHx8IHt9OwpzY29wZS5nb29nbGUuY29sYWIgPSBzY29wZS5nb29nbGUuY29sYWIgfHwge307CnNjb3BlLmdvb2dsZS5jb2xhYi5fZmlsZXMgPSB7CiAgX3VwbG9hZEZpbGVzLAogIF91cGxvYWRGaWxlc0NvbnRpbnVlLAp9Owp9KShzZWxmKTsK",
              "ok": true,
              "headers": [
                [
                  "content-type",
                  "application/javascript"
                ]
              ],
              "status": 200,
              "status_text": ""
            }
          },
          "base_uri": "https://localhost:8080/",
          "height": 308
        },
        "id": "AvdLgiJxfZog",
        "outputId": "90c662c6-1709-404d-c588-c254a62434c1"
      },
      "source": [
        "from google.colab import files\n",
        "uploaded = files.upload()\n",
        "import pandas as pd\n",
        "import numpy as np\n",
        "import io\n",
        "df = pd.read_csv(io.BytesIO(uploaded['stocks.csv']))\n",
        "print(df)\n"
      ],
      "execution_count": null,
      "outputs": [
        {
          "output_type": "display_data",
          "data": {
            "text/html": [
              "\n",
              "     <input type=\"file\" id=\"files-c6e853b1-9026-442d-9b14-55e8c521b798\" name=\"files[]\" multiple disabled\n",
              "        style=\"border:none\" />\n",
              "     <output id=\"result-c6e853b1-9026-442d-9b14-55e8c521b798\">\n",
              "      Upload widget is only available when the cell has been executed in the\n",
              "      current browser session. Please rerun this cell to enable.\n",
              "      </output>\n",
              "      <script src=\"/nbextensions/google.colab/files.js\"></script> "
            ],
            "text/plain": [
              "<IPython.core.display.HTML object>"
            ]
          },
          "metadata": {}
        },
        {
          "output_type": "stream",
          "name": "stdout",
          "text": [
            "Saving stocks.csv to stocks (2).csv\n",
            "            Date    Open    High  ...   Close  Total Trade Quantity  Turnover (Lacs)\n",
            "0     2018-09-28  234.05  235.95  ...  233.75               3069914          7162.35\n",
            "1     2018-09-27  234.55  236.80  ...  233.25               5082859         11859.95\n",
            "2     2018-09-26  240.00  240.00  ...  234.25               2240909          5248.60\n",
            "3     2018-09-25  233.30  236.75  ...  236.10               2349368          5503.90\n",
            "4     2018-09-24  233.55  239.20  ...  233.30               3423509          7999.55\n",
            "...          ...     ...     ...  ...     ...                   ...              ...\n",
            "2030  2010-07-27  117.60  119.50  ...  118.65                586100           694.98\n",
            "2031  2010-07-26  120.10  121.00  ...  117.60                658440           780.01\n",
            "2032  2010-07-23  121.80  121.95  ...  120.65                281312           340.31\n",
            "2033  2010-07-22  120.30  122.00  ...  120.90                293312           355.17\n",
            "2034  2010-07-21  122.10  123.00  ...  121.55                658666           803.56\n",
            "\n",
            "[2035 rows x 8 columns]\n"
          ]
        }
      ]
    },
    {
      "cell_type": "code",
      "metadata": {
        "id": "18blDZcdnCM4"
      },
      "source": [
        ""
      ],
      "execution_count": null,
      "outputs": []
    },
    {
      "cell_type": "code",
      "metadata": {
        "id": "wncutwTKnGkR"
      },
      "source": [
        ""
      ],
      "execution_count": null,
      "outputs": []
    },
    {
      "cell_type": "code",
      "metadata": {
        "id": "clgWyxxpjA8p"
      },
      "source": [
        "import matplotlib. pyplot as plt\n",
        "import matplotlib\n",
        "%matplotlib inline"
      ],
      "execution_count": null,
      "outputs": []
    },
    {
      "cell_type": "code",
      "metadata": {
        "id": "mAc-RI5cjYYT"
      },
      "source": [
        "#importing libraries\n",
        "\n",
        "from sklearn.preprocessing import MinMaxScaler\n",
        "from keras.layers import LSTM, Dense, Dropout\n",
        "from sklearn.model_selection import TimeSeriesSplit\n",
        "from sklearn.metrics import mean_squared_error, r2_score\n",
        "import matplotlib.dates as mandates\n",
        "from sklearn.preprocessing import MinMaxScaler\n",
        "from sklearn import linear_model\n",
        "from keras.models import Sequential\n",
        "from keras.layers import Dense\n",
        "import keras.backend as K\n",
        "from keras.callbacks import EarlyStopping\n",
        "from tensorflow.keras.optimizers import Adam\n",
        "from keras.models import load_model\n",
        "from keras.layers import LSTM\n",
        "from keras.utils.vis_utils import plot_model"
      ],
      "execution_count": null,
      "outputs": []
    },
    {
      "cell_type": "code",
      "metadata": {
        "colab": {
          "base_uri": "https://localhost:8080/"
        },
        "id": "mWdupyAhnJ4N",
        "outputId": "82054ecd-8422-4ed8-e4cd-5540d2b31eb1"
      },
      "source": [
        "print(df. shape)\n",
        "\n",
        "print(df.isnull().values.any())"
      ],
      "execution_count": null,
      "outputs": [
        {
          "output_type": "stream",
          "name": "stdout",
          "text": [
            "(2035, 8)\n",
            "False\n"
          ]
        }
      ]
    },
    {
      "cell_type": "code",
      "metadata": {
        "colab": {
          "base_uri": "https://localhost:8080/"
        },
        "id": "w7evM29smUQ-",
        "outputId": "cd25838f-7e7b-4c53-c7ac-1c1ce654734f"
      },
      "source": [
        "df.head"
      ],
      "execution_count": null,
      "outputs": [
        {
          "output_type": "execute_result",
          "data": {
            "text/plain": [
              "<bound method NDFrame.head of             Date    Open    High  ...   Close  Total Trade Quantity  Turnover (Lacs)\n",
              "0     2018-09-28  234.05  235.95  ...  233.75               3069914          7162.35\n",
              "1     2018-09-27  234.55  236.80  ...  233.25               5082859         11859.95\n",
              "2     2018-09-26  240.00  240.00  ...  234.25               2240909          5248.60\n",
              "3     2018-09-25  233.30  236.75  ...  236.10               2349368          5503.90\n",
              "4     2018-09-24  233.55  239.20  ...  233.30               3423509          7999.55\n",
              "...          ...     ...     ...  ...     ...                   ...              ...\n",
              "2030  2010-07-27  117.60  119.50  ...  118.65                586100           694.98\n",
              "2031  2010-07-26  120.10  121.00  ...  117.60                658440           780.01\n",
              "2032  2010-07-23  121.80  121.95  ...  120.65                281312           340.31\n",
              "2033  2010-07-22  120.30  122.00  ...  120.90                293312           355.17\n",
              "2034  2010-07-21  122.10  123.00  ...  121.55                658666           803.56\n",
              "\n",
              "[2035 rows x 8 columns]>"
            ]
          },
          "metadata": {},
          "execution_count": 13
        }
      ]
    },
    {
      "cell_type": "code",
      "metadata": {
        "colab": {
          "base_uri": "https://localhost:8080/",
          "height": 282
        },
        "id": "EkjJdUkuoBX4",
        "outputId": "288b6273-82dc-499f-9dc2-5865db85d9b4"
      },
      "source": [
        "#Plotting the True Adjusted Close Value \n",
        "df['Close'].plot()"
      ],
      "execution_count": null,
      "outputs": [
        {
          "output_type": "execute_result",
          "data": {
            "text/plain": [
              "<matplotlib.axes._subplots.AxesSubplot at 0x7f70eb3efbd0>"
            ]
          },
          "metadata": {},
          "execution_count": 21
        },
        {
          "output_type": "display_data",
          "data": {
            "image/png": "[encoded data removed]",
            "text/plain": [
              "<Figure size 432x288 with 1 Axes>"
            ]
          },
          "metadata": {
            "needs_background": "light"
          }
        }
      ]
    },
    {
      "cell_type": "code",
      "metadata": {
        "id": "-mkVbBAGob3b"
      },
      "source": [
        "#Setting the Target Variable and Selecting the Features\n",
        "output_var = pd.DataFrame(df['Close'])"
      ],
      "execution_count": null,
      "outputs": []
    },
    {
      "cell_type": "code",
      "metadata": {
        "id": "j3NAXDGTot2A"
      },
      "source": [
        "features = ['Open', 'High', 'Low', 'Turnover (Lacs)']\n"
      ],
      "execution_count": null,
      "outputs": []
    },
    {
      "cell_type": "code",
      "metadata": {
        "colab": {
          "base_uri": "https://localhost:8080/",
          "height": 203
        },
        "id": "t_GSvUSypOVV",
        "outputId": "465c3e60-78fc-4f27-be32-92c92870226b"
      },
      "source": [
        "#Scaling\n",
        "scaler = MinMaxScaler()\n",
        "feature_transform = scaler.fit_transform(df[features])\n",
        "feature_transform= pd.DataFrame(columns=features, data=feature_transform, index=df.index)\n",
        "feature_transform.head()"
      ],
      "execution_count": null,
      "outputs": [
        {
          "output_type": "execute_result",
          "data": {
            "text/html": [
              "<div>\n",
              "<style scoped>\n",
              "    .dataframe tbody tr th:only-of-type {\n",
              "        vertical-align: middle;\n",
              "    }\n",
              "\n",
              "    .dataframe tbody tr th {\n",
              "        vertical-align: top;\n",
              "    }\n",
              "\n",
              "    .dataframe thead th {\n",
              "        text-align: right;\n",
              "    }\n",
              "</style>\n",
              "<table border=\"1\" class=\"dataframe\">\n",
              "  <thead>\n",
              "    <tr style=\"text-align: right;\">\n",
              "      <th></th>\n",
              "      <th>Open</th>\n",
              "      <th>High</th>\n",
              "      <th>Low</th>\n",
              "      <th>Turnover (Lacs)</th>\n",
              "    </tr>\n",
              "  </thead>\n",
              "  <tbody>\n",
              "    <tr>\n",
              "      <th>0</th>\n",
              "      <td>0.620235</td>\n",
              "      <td>0.622688</td>\n",
              "      <td>0.621560</td>\n",
              "      <td>0.127882</td>\n",
              "    </tr>\n",
              "    <tr>\n",
              "      <th>1</th>\n",
              "      <td>0.622263</td>\n",
              "      <td>0.626144</td>\n",
              "      <td>0.625285</td>\n",
              "      <td>0.212192</td>\n",
              "    </tr>\n",
              "    <tr>\n",
              "      <th>2</th>\n",
              "      <td>0.644363</td>\n",
              "      <td>0.639154</td>\n",
              "      <td>0.631078</td>\n",
              "      <td>0.093535</td>\n",
              "    </tr>\n",
              "    <tr>\n",
              "      <th>3</th>\n",
              "      <td>0.617194</td>\n",
              "      <td>0.625940</td>\n",
              "      <td>0.629009</td>\n",
              "      <td>0.098117</td>\n",
              "    </tr>\n",
              "    <tr>\n",
              "      <th>4</th>\n",
              "      <td>0.618208</td>\n",
              "      <td>0.635902</td>\n",
              "      <td>0.623836</td>\n",
              "      <td>0.142907</td>\n",
              "    </tr>\n",
              "  </tbody>\n",
              "</table>\n",
              "</div>"
            ],
            "text/plain": [
              "       Open      High       Low  Turnover (Lacs)\n",
              "0  0.620235  0.622688  0.621560         0.127882\n",
              "1  0.622263  0.626144  0.625285         0.212192\n",
              "2  0.644363  0.639154  0.631078         0.093535\n",
              "3  0.617194  0.625940  0.629009         0.098117\n",
              "4  0.618208  0.635902  0.623836         0.142907"
            ]
          },
          "metadata": {},
          "execution_count": 34
        }
      ]
    },
    {
      "cell_type": "code",
      "metadata": {
        "id": "fLTNeK0nqk8x"
      },
      "source": [
        "#Training and Testing Data\n",
        "timesplit= TimeSeriesSplit(n_splits=10)\n",
        "for train_index, test_index in timesplit.split(feature_transform):\n",
        "        X_train, X_test = feature_transform[:len(train_index)], feature_transform[len(train_index): (len(train_index)+len(test_index))]\n",
        "        y_train, y_test = output_var[:len(train_index)].values.ravel(), output_var[len(train_index): (len(train_index)+len(test_index))].values.ravel()"
      ],
      "execution_count": null,
      "outputs": []
    },
    {
      "cell_type": "code",
      "metadata": {
        "id": "CO69pU5SqsD0"
      },
      "source": [
        "trainX =np.array(X_train)\n",
        "testX =np.array(X_test)\n",
        "X_train = trainX.reshape(X_train.shape[0], 1, X_train.shape[1])\n",
        "X_test = testX.reshape(X_test.shape[0], 1, X_test.shape[1])"
      ],
      "execution_count": null,
      "outputs": []
    },
    {
      "cell_type": "code",
      "metadata": {
        "colab": {
          "base_uri": "https://localhost:8080/",
          "height": 312
        },
        "id": "KutWFz8Fq6Mz",
        "outputId": "ad497ef4-2232-41b7-c49c-07aa272fb9e6"
      },
      "source": [
        "#processing the data for lstm\n",
        "lstm = Sequential()\n",
        "lstm.add(LSTM(25, input_shape=(1, trainX.shape[1]), activation='relu', return_sequences=False))\n",
        "lstm.add(Dense(1))\n",
        "lstm.compile(loss='mean_squared_error', optimizer='adam')\n",
        "plot_model(lstm, show_shapes=True, show_layer_names=True)\n"
      ],
      "execution_count": 61,
      "outputs": [
        {
          "output_type": "execute_result",
          "data": {
            "image/png": "[encoded data removed]",
            "text/plain": [
              "<IPython.core.display.Image object>"
            ]
          },
          "metadata": {},
          "execution_count": 61
        }
      ]
    },
    {
      "cell_type": "code",
      "metadata": {
        "colab": {
          "base_uri": "https://localhost:8080/"
        },
        "id": "cJuQ5yoTxSWG",
        "outputId": "6897db3b-4b9d-4828-b4c1-5bd60e4dab41"
      },
      "source": [
        "#training the model\n",
        "history = lstm.fit(X_train, y_train, epochs=100, batch_size=8, verbose=1, s\n",
        "huffle=False)"
      ],
      "execution_count": 62,
      "outputs": [
        {
          "output_type": "stream",
          "name": "stdout",
          "text": [
            "Epoch 1/100\n",
            "232/232 [==============================] - 2s 2ms/step - loss: 25814.8145\n",
            "Epoch 2/100\n",
            "232/232 [==============================] - 0s 2ms/step - loss: 25305.3066\n",
            "Epoch 3/100\n",
            "232/232 [==============================] - 0s 2ms/step - loss: 23829.9316\n",
            "Epoch 4/100\n",
            "232/232 [==============================] - 0s 2ms/step - loss: 21284.6094\n",
            "Epoch 5/100\n",
            "232/232 [==============================] - 0s 2ms/step - loss: 18071.1855\n",
            "Epoch 6/100\n",
            "232/232 [==============================] - 0s 2ms/step - loss: 14642.7988\n",
            "Epoch 7/100\n",
            "232/232 [==============================] - 0s 2ms/step - loss: 11326.6768\n",
            "Epoch 8/100\n",
            "232/232 [==============================] - 0s 2ms/step - loss: 8339.7754\n",
            "Epoch 9/100\n",
            "232/232 [==============================] - 0s 2ms/step - loss: 5814.7510\n",
            "Epoch 10/100\n",
            "232/232 [==============================] - 0s 2ms/step - loss: 3813.2915\n",
            "Epoch 11/100\n",
            "232/232 [==============================] - 0s 2ms/step - loss: 2328.8362\n",
            "Epoch 12/100\n",
            "232/232 [==============================] - 0s 2ms/step - loss: 1242.9675\n",
            "Epoch 13/100\n",
            "232/232 [==============================] - 0s 2ms/step - loss: 590.8105\n",
            "Epoch 14/100\n",
            "232/232 [==============================] - 0s 2ms/step - loss: 262.8464\n",
            "Epoch 15/100\n",
            "232/232 [==============================] - 0s 2ms/step - loss: 120.8805\n",
            "Epoch 16/100\n",
            "232/232 [==============================] - 0s 2ms/step - loss: 67.0380\n",
            "Epoch 17/100\n",
            "232/232 [==============================] - 0s 2ms/step - loss: 48.0105\n",
            "Epoch 18/100\n",
            "232/232 [==============================] - 0s 2ms/step - loss: 40.7240\n",
            "Epoch 19/100\n",
            "232/232 [==============================] - 0s 2ms/step - loss: 37.0301\n",
            "Epoch 20/100\n",
            "232/232 [==============================] - 0s 2ms/step - loss: 34.4468\n",
            "Epoch 21/100\n",
            "232/232 [==============================] - 0s 2ms/step - loss: 32.0740\n",
            "Epoch 22/100\n",
            "232/232 [==============================] - 0s 2ms/step - loss: 30.9805\n",
            "Epoch 23/100\n",
            "232/232 [==============================] - 0s 2ms/step - loss: 28.4258\n",
            "Epoch 24/100\n",
            "232/232 [==============================] - 0s 2ms/step - loss: 26.4791\n",
            "Epoch 25/100\n",
            "232/232 [==============================] - 0s 2ms/step - loss: 24.7430\n",
            "Epoch 26/100\n",
            "232/232 [==============================] - 0s 2ms/step - loss: 23.1718\n",
            "Epoch 27/100\n",
            "232/232 [==============================] - 0s 2ms/step - loss: 21.7599\n",
            "Epoch 28/100\n",
            "232/232 [==============================] - 0s 2ms/step - loss: 20.5017\n",
            "Epoch 29/100\n",
            "232/232 [==============================] - 0s 2ms/step - loss: 19.3851\n",
            "Epoch 30/100\n",
            "232/232 [==============================] - 0s 2ms/step - loss: 18.3925\n",
            "Epoch 31/100\n",
            "232/232 [==============================] - 0s 2ms/step - loss: 17.5028\n",
            "Epoch 32/100\n",
            "232/232 [==============================] - 0s 2ms/step - loss: 16.6948\n",
            "Epoch 33/100\n",
            "232/232 [==============================] - 0s 2ms/step - loss: 15.9500\n",
            "Epoch 34/100\n",
            "232/232 [==============================] - 0s 2ms/step - loss: 15.2532\n",
            "Epoch 35/100\n",
            "232/232 [==============================] - 0s 2ms/step - loss: 14.5939\n",
            "Epoch 36/100\n",
            "232/232 [==============================] - 0s 2ms/step - loss: 13.9647\n",
            "Epoch 37/100\n",
            "232/232 [==============================] - 0s 2ms/step - loss: 13.3610\n",
            "Epoch 38/100\n",
            "232/232 [==============================] - 0s 2ms/step - loss: 12.7801\n",
            "Epoch 39/100\n",
            "232/232 [==============================] - 0s 2ms/step - loss: 12.2200\n",
            "Epoch 40/100\n",
            "232/232 [==============================] - 0s 2ms/step - loss: 11.6797\n",
            "Epoch 41/100\n",
            "232/232 [==============================] - 0s 2ms/step - loss: 11.1584\n",
            "Epoch 42/100\n",
            "232/232 [==============================] - 0s 2ms/step - loss: 10.6558\n",
            "Epoch 43/100\n",
            "232/232 [==============================] - 0s 2ms/step - loss: 10.1717\n",
            "Epoch 44/100\n",
            "232/232 [==============================] - 0s 2ms/step - loss: 9.7063\n",
            "Epoch 45/100\n",
            "232/232 [==============================] - 0s 2ms/step - loss: 9.2599\n",
            "Epoch 46/100\n",
            "232/232 [==============================] - 0s 2ms/step - loss: 8.8329\n",
            "Epoch 47/100\n",
            "232/232 [==============================] - 0s 2ms/step - loss: 8.4259\n",
            "Epoch 48/100\n",
            "232/232 [==============================] - 0s 2ms/step - loss: 8.0392\n",
            "Epoch 49/100\n",
            "232/232 [==============================] - 0s 2ms/step - loss: 7.6734\n",
            "Epoch 50/100\n",
            "232/232 [==============================] - 0s 2ms/step - loss: 7.3287\n",
            "Epoch 51/100\n",
            "232/232 [==============================] - 0s 2ms/step - loss: 7.0057\n",
            "Epoch 52/100\n",
            "232/232 [==============================] - 0s 2ms/step - loss: 6.7043\n",
            "Epoch 53/100\n",
            "232/232 [==============================] - 0s 2ms/step - loss: 6.4247\n",
            "Epoch 54/100\n",
            "232/232 [==============================] - 0s 2ms/step - loss: 6.1668\n",
            "Epoch 55/100\n",
            "232/232 [==============================] - 0s 2ms/step - loss: 5.9304\n",
            "Epoch 56/100\n",
            "232/232 [==============================] - 0s 2ms/step - loss: 5.7151\n",
            "Epoch 57/100\n",
            "232/232 [==============================] - 0s 2ms/step - loss: 5.5204\n",
            "Epoch 58/100\n",
            "232/232 [==============================] - 0s 2ms/step - loss: 5.3458\n",
            "Epoch 59/100\n",
            "232/232 [==============================] - 0s 2ms/step - loss: 5.1903\n",
            "Epoch 60/100\n",
            "232/232 [==============================] - 1s 2ms/step - loss: 5.0532\n",
            "Epoch 61/100\n",
            "232/232 [==============================] - 0s 2ms/step - loss: 4.9333\n",
            "Epoch 62/100\n",
            "232/232 [==============================] - 0s 2ms/step - loss: 4.8295\n",
            "Epoch 63/100\n",
            "232/232 [==============================] - 0s 2ms/step - loss: 4.7405\n",
            "Epoch 64/100\n",
            "232/232 [==============================] - 0s 2ms/step - loss: 4.6648\n",
            "Epoch 65/100\n",
            "232/232 [==============================] - 0s 2ms/step - loss: 4.6012\n",
            "Epoch 66/100\n",
            "232/232 [==============================] - 0s 2ms/step - loss: 4.5480\n",
            "Epoch 67/100\n",
            "232/232 [==============================] - 0s 2ms/step - loss: 4.5038\n",
            "Epoch 68/100\n",
            "232/232 [==============================] - 0s 2ms/step - loss: 4.4673\n",
            "Epoch 69/100\n",
            "232/232 [==============================] - 0s 2ms/step - loss: 4.4372\n",
            "Epoch 70/100\n",
            "232/232 [==============================] - 0s 2ms/step - loss: 4.4122\n",
            "Epoch 71/100\n",
            "232/232 [==============================] - 0s 2ms/step - loss: 4.3913\n",
            "Epoch 72/100\n",
            "232/232 [==============================] - 0s 2ms/step - loss: 4.3737\n",
            "Epoch 73/100\n",
            "232/232 [==============================] - 0s 2ms/step - loss: 4.3586\n",
            "Epoch 74/100\n",
            "232/232 [==============================] - 0s 2ms/step - loss: 4.3455\n",
            "Epoch 75/100\n",
            "232/232 [==============================] - 0s 2ms/step - loss: 4.3339\n",
            "Epoch 76/100\n",
            "232/232 [==============================] - 0s 2ms/step - loss: 4.3234\n",
            "Epoch 77/100\n",
            "232/232 [==============================] - 0s 2ms/step - loss: 4.3139\n",
            "Epoch 78/100\n",
            "232/232 [==============================] - 0s 2ms/step - loss: 4.3050\n",
            "Epoch 79/100\n",
            "232/232 [==============================] - 0s 2ms/step - loss: 4.2967\n",
            "Epoch 80/100\n",
            "232/232 [==============================] - 0s 2ms/step - loss: 4.2889\n",
            "Epoch 81/100\n",
            "232/232 [==============================] - 0s 2ms/step - loss: 4.2813\n",
            "Epoch 82/100\n",
            "232/232 [==============================] - 0s 2ms/step - loss: 4.2741\n",
            "Epoch 83/100\n",
            "232/232 [==============================] - 0s 2ms/step - loss: 4.2671\n",
            "Epoch 84/100\n",
            "232/232 [==============================] - 0s 2ms/step - loss: 4.2602\n",
            "Epoch 85/100\n",
            "232/232 [==============================] - 0s 2ms/step - loss: 4.2536\n",
            "Epoch 86/100\n",
            "232/232 [==============================] - 0s 2ms/step - loss: 4.2470\n",
            "Epoch 87/100\n",
            "232/232 [==============================] - 0s 2ms/step - loss: 4.2405\n",
            "Epoch 88/100\n",
            "232/232 [==============================] - 0s 2ms/step - loss: 4.2342\n",
            "Epoch 89/100\n",
            "232/232 [==============================] - 0s 2ms/step - loss: 4.2279\n",
            "Epoch 90/100\n",
            "232/232 [==============================] - 0s 2ms/step - loss: 4.2216\n",
            "Epoch 91/100\n",
            "232/232 [==============================] - 0s 2ms/step - loss: 4.2154\n",
            "Epoch 92/100\n",
            "232/232 [==============================] - 0s 2ms/step - loss: 4.2093\n",
            "Epoch 93/100\n",
            "232/232 [==============================] - 0s 2ms/step - loss: 4.2032\n",
            "Epoch 94/100\n",
            "232/232 [==============================] - 0s 2ms/step - loss: 4.1971\n",
            "Epoch 95/100\n",
            "232/232 [==============================] - 0s 2ms/step - loss: 4.1911\n",
            "Epoch 96/100\n",
            "232/232 [==============================] - 0s 2ms/step - loss: 4.1851\n",
            "Epoch 97/100\n",
            "232/232 [==============================] - 0s 2ms/step - loss: 4.1791\n",
            "Epoch 98/100\n",
            "232/232 [==============================] - 0s 2ms/step - loss: 4.1731\n",
            "Epoch 99/100\n",
            "232/232 [==============================] - 0s 2ms/step - loss: 4.1672\n",
            "Epoch 100/100\n",
            "232/232 [==============================] - 0s 2ms/step - loss: 4.1613\n"
          ]
        }
      ]
    },
    {
      "cell_type": "code",
      "metadata": {
        "colab": {
          "base_uri": "https://localhost:8080/"
        },
        "id": "VTaGhLtvxyym",
        "outputId": "6eabcd30-b392-483b-bc0e-6205ef13784d"
      },
      "source": [
        "#LSTM PREICTION\n",
        "y_pred= lstm.predict(X_test)\n",
        "y_pred"
      ],
      "execution_count": 63,
      "outputs": [
        {
          "output_type": "execute_result",
          "data": {
            "text/plain": [
              "array([[101.83712 ],\n",
              "       [102.7678  ],\n",
              "       [107.08593 ],\n",
              "       [107.44911 ],\n",
              "       [105.78764 ],\n",
              "       [105.219406],\n",
              "       [101.23131 ],\n",
              "       [ 98.70108 ],\n",
              "       [ 97.179306],\n",
              "       [ 97.05464 ],\n",
              "       [ 97.40439 ],\n",
              "       [ 97.91863 ],\n",
              "       [ 99.09023 ],\n",
              "       [ 98.41609 ],\n",
              "       [ 97.65308 ],\n",
              "       [ 98.15293 ],\n",
              "       [ 98.40105 ],\n",
              "       [ 98.022705],\n",
              "       [ 97.90701 ],\n",
              "       [ 99.46333 ],\n",
              "       [ 99.22794 ],\n",
              "       [102.49324 ],\n",
              "       [ 99.8741  ],\n",
              "       [ 95.90674 ],\n",
              "       [ 95.68346 ],\n",
              "       [ 90.655365],\n",
              "       [ 89.25788 ],\n",
              "       [ 90.51411 ],\n",
              "       [ 90.82034 ],\n",
              "       [ 90.15895 ],\n",
              "       [ 87.84203 ],\n",
              "       [ 88.4897  ],\n",
              "       [ 92.399185],\n",
              "       [ 95.91465 ],\n",
              "       [ 96.18332 ],\n",
              "       [ 95.08086 ],\n",
              "       [ 98.58638 ],\n",
              "       [ 97.34683 ],\n",
              "       [ 94.897606],\n",
              "       [ 94.71188 ],\n",
              "       [ 92.9659  ],\n",
              "       [ 89.3801  ],\n",
              "       [ 87.1676  ],\n",
              "       [ 90.59125 ],\n",
              "       [ 94.46988 ],\n",
              "       [ 96.46327 ],\n",
              "       [ 95.85406 ],\n",
              "       [ 96.08029 ],\n",
              "       [ 97.99281 ],\n",
              "       [ 99.798874],\n",
              "       [ 97.88515 ],\n",
              "       [103.12511 ],\n",
              "       [106.15256 ],\n",
              "       [106.25793 ],\n",
              "       [104.77417 ],\n",
              "       [105.645485],\n",
              "       [105.663864],\n",
              "       [104.83009 ],\n",
              "       [105.03934 ],\n",
              "       [105.08661 ],\n",
              "       [105.48355 ],\n",
              "       [103.12503 ],\n",
              "       [102.09763 ],\n",
              "       [103.28558 ],\n",
              "       [106.339874],\n",
              "       [110.079025],\n",
              "       [111.45894 ],\n",
              "       [112.11575 ],\n",
              "       [112.11373 ],\n",
              "       [109.24489 ],\n",
              "       [107.67857 ],\n",
              "       [108.89987 ],\n",
              "       [109.48157 ],\n",
              "       [109.34878 ],\n",
              "       [111.41553 ],\n",
              "       [112.21074 ],\n",
              "       [112.83211 ],\n",
              "       [114.75624 ],\n",
              "       [115.88267 ],\n",
              "       [114.24695 ],\n",
              "       [113.69278 ],\n",
              "       [114.162186],\n",
              "       [113.05743 ],\n",
              "       [112.325775],\n",
              "       [109.93199 ],\n",
              "       [113.26798 ],\n",
              "       [114.08209 ],\n",
              "       [114.26592 ],\n",
              "       [113.467125],\n",
              "       [114.10575 ],\n",
              "       [115.26145 ],\n",
              "       [113.53637 ],\n",
              "       [112.01658 ],\n",
              "       [111.79304 ],\n",
              "       [109.15871 ],\n",
              "       [113.99427 ],\n",
              "       [116.966805],\n",
              "       [116.02996 ],\n",
              "       [118.61711 ],\n",
              "       [119.53703 ],\n",
              "       [119.37506 ],\n",
              "       [122.82193 ],\n",
              "       [124.12591 ],\n",
              "       [126.40723 ],\n",
              "       [130.48096 ],\n",
              "       [128.9852  ],\n",
              "       [125.34871 ],\n",
              "       [125.08047 ],\n",
              "       [127.05443 ],\n",
              "       [123.76288 ],\n",
              "       [124.75175 ],\n",
              "       [124.63559 ],\n",
              "       [125.120834],\n",
              "       [124.754326],\n",
              "       [128.0921  ],\n",
              "       [126.980225],\n",
              "       [127.666275],\n",
              "       [128.71071 ],\n",
              "       [129.87961 ],\n",
              "       [129.16377 ],\n",
              "       [128.72543 ],\n",
              "       [129.98364 ],\n",
              "       [128.34724 ],\n",
              "       [131.74088 ],\n",
              "       [133.39127 ],\n",
              "       [131.78728 ],\n",
              "       [132.5612  ],\n",
              "       [133.78862 ],\n",
              "       [133.21426 ],\n",
              "       [133.13168 ],\n",
              "       [127.702705],\n",
              "       [124.72565 ],\n",
              "       [123.58692 ],\n",
              "       [121.51553 ],\n",
              "       [120.66255 ],\n",
              "       [122.35112 ],\n",
              "       [123.34523 ],\n",
              "       [124.70563 ],\n",
              "       [124.15867 ],\n",
              "       [121.35357 ],\n",
              "       [121.339905],\n",
              "       [122.982956],\n",
              "       [122.49471 ],\n",
              "       [122.729034],\n",
              "       [122.76125 ],\n",
              "       [124.06662 ],\n",
              "       [125.249   ],\n",
              "       [126.7494  ],\n",
              "       [127.33413 ],\n",
              "       [127.085655],\n",
              "       [124.41574 ],\n",
              "       [122.83215 ],\n",
              "       [122.06615 ],\n",
              "       [122.79486 ],\n",
              "       [121.34079 ],\n",
              "       [117.58229 ],\n",
              "       [117.62971 ],\n",
              "       [118.02429 ],\n",
              "       [117.618515],\n",
              "       [116.18613 ],\n",
              "       [117.772446],\n",
              "       [114.58291 ],\n",
              "       [111.52533 ],\n",
              "       [110.48692 ],\n",
              "       [109.22631 ],\n",
              "       [110.73134 ],\n",
              "       [113.42976 ],\n",
              "       [113.380936],\n",
              "       [112.56979 ],\n",
              "       [113.17799 ],\n",
              "       [112.219475],\n",
              "       [111.98726 ],\n",
              "       [112.87139 ],\n",
              "       [115.192635],\n",
              "       [117.17204 ],\n",
              "       [118.03047 ],\n",
              "       [116.78849 ],\n",
              "       [115.96239 ],\n",
              "       [115.24442 ],\n",
              "       [117.90763 ],\n",
              "       [115.52094 ],\n",
              "       [118.616806],\n",
              "       [120.51958 ],\n",
              "       [120.10506 ],\n",
              "       [121.31049 ]], dtype=float32)"
            ]
          },
          "metadata": {},
          "execution_count": 63
        }
      ]
    },
    {
      "cell_type": "code",
      "metadata": {
        "colab": {
          "base_uri": "https://localhost:8080/",
          "height": 295
        },
        "id": "uy9YmTrayDAM",
        "outputId": "417c30e2-84cd-48d0-e534-f502878d8cff"
      },
      "source": [
        "#True vs Predicted Adj Close Value – LSTM\n",
        "plt.plot(y_test, label='True Value')\n",
        "plt.plot(y_pred, label='LSTM Value')\n",
        "plt.title('Prediction by LSTM')\n",
        "plt.xlabel('Time Scale')\n",
        "plt.ylabel('Scaled Rupees')\n",
        "plt.legend()\n",
        "plt.show()"
      ],
      "execution_count": 64,
      "outputs": [
        {
          "output_type": "display_data",
          "data": {
            "image/png": "[encoded data removed]",
            "text/plain": [
              "<Figure size 432x288 with 1 Axes>"
            ]
          },
          "metadata": {
            "needs_background": "light"
          }
        }
      ]
    },
    {
      "cell_type": "code",
      "metadata": {
        "id": "3BoEw5-hydAx"
      },
      "source": [
        ""
      ],
      "execution_count": 58,
      "outputs": []
    }
  ]
}